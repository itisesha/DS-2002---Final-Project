{
 "cells": [
  {
   "cell_type": "markdown",
   "metadata": {
    "application/vnd.databricks.v1+cell": {
     "cellMetadata": {},
     "inputWidgets": {},
     "nuid": "ba7a8950-3534-4432-84a3-5a068ec404f5",
     "showTitle": false,
     "title": ""
    }
   },
   "source": [
    "Import Necessary Libraries"
   ]
  },
  {
   "cell_type": "code",
   "execution_count": 0,
   "metadata": {
    "application/vnd.databricks.v1+cell": {
     "cellMetadata": {
      "byteLimit": 2048000,
      "rowLimit": 10000
     },
     "inputWidgets": {},
     "nuid": "5a764f33-3370-4b68-b432-4d3a0578be77",
     "showTitle": false,
     "title": ""
    }
   },
   "outputs": [
    {
     "output_type": "stream",
     "name": "stdout",
     "output_type": "stream",
     "text": [
      "\u001B[43mNote: you may need to restart the kernel using dbutils.library.restartPython() to use updated packages.\u001B[0m\nCollecting pymongo\n  Downloading pymongo-4.7.2-cp311-cp311-manylinux_2_17_x86_64.manylinux2014_x86_64.whl (672 kB)\n\u001B[?25l     \u001B[90m━━━━━━━━━━━━━━━━━━━━━━━━━━━━━━━━━━━━━━━━\u001B[0m \u001B[32m0.0/672.1 kB\u001B[0m \u001B[31m?\u001B[0m eta \u001B[36m-:--:--\u001B[0m\n\u001B[2K     \u001B[91m━━━━━━\u001B[0m\u001B[91m╸\u001B[0m\u001B[90m━━━━━━━━━━━━━━━━━━━━━━━━━━━━━━━━\u001B[0m \u001B[32m112.6/672.1 kB\u001B[0m \u001B[31m3.1 MB/s\u001B[0m eta \u001B[36m0:00:01\u001B[0m\n\u001B[2K     \u001B[90m━━━━━━━━━━━━━━━━━━━━━━━━━━━━━━━━━━━━━━\u001B[0m \u001B[32m672.1/672.1 kB\u001B[0m \u001B[31m10.6 MB/s\u001B[0m eta \u001B[36m0:00:00\u001B[0m\n\u001B[?25hCollecting dnspython<3.0.0,>=1.16.0\n  Downloading dnspython-2.6.1-py3-none-any.whl (307 kB)\n\u001B[?25l     \u001B[90m━━━━━━━━━━━━━━━━━━━━━━━━━━━━━━━━━━━━━━━━\u001B[0m \u001B[32m0.0/307.7 kB\u001B[0m \u001B[31m?\u001B[0m eta \u001B[36m-:--:--\u001B[0m\n\u001B[2K     \u001B[90m━━━━━━━━━━━━━━━━━━━━━━━━━━━━━━━━━━━━━━\u001B[0m \u001B[32m307.7/307.7 kB\u001B[0m \u001B[31m22.6 MB/s\u001B[0m eta \u001B[36m0:00:00\u001B[0m\n\u001B[?25hInstalling collected packages: dnspython, pymongo\nSuccessfully installed dnspython-2.6.1 pymongo-4.7.2\n\u001B[43mNote: you may need to restart the kernel using dbutils.library.restartPython() to use updated packages.\u001B[0m\n"
     ]
    }
   ],
   "source": [
    "#Import Necessary Libraries \n",
    "import os\n",
    "import json\n",
    "!pip install pymongo  # Install the pymongo module\n",
    "import pymongo\n",
    "import pyspark.pandas as pd  # This uses Koalas that is included in PySpark version 3.2 or newer.\n",
    "from pyspark.sql.functions import col\n",
    "from pyspark.sql.types import StructType, StructField, StringType, TimestampType, BinaryType\n",
    "from pyspark.sql.types import ByteType, ShortType, IntegerType, LongType, FloatType, DecimalType"
   ]
  },
  {
   "cell_type": "markdown",
   "metadata": {
    "application/vnd.databricks.v1+cell": {
     "cellMetadata": {},
     "inputWidgets": {},
     "nuid": "a48bf595-babd-493d-badc-e3250564b89d",
     "showTitle": false,
     "title": ""
    }
   },
   "source": [
    "Instantiate Global Variables"
   ]
  },
  {
   "cell_type": "code",
   "execution_count": 0,
   "metadata": {
    "application/vnd.databricks.v1+cell": {
     "cellMetadata": {
      "byteLimit": 2048000,
      "rowLimit": 10000
     },
     "inputWidgets": {},
     "nuid": "d86a904b-9cb5-48a0-9740-95f58252f34e",
     "showTitle": false,
     "title": ""
    }
   },
   "outputs": [
    {
     "output_type": "display_data",
     "data": {
      "text/plain": [
       "\u001B[0;31m---------------------------------------------------------------------------\u001B[0m\n",
       "\u001B[0;31mModuleNotFoundError\u001B[0m                       Traceback (most recent call last)\n",
       "File \u001B[0;32m<command-2926510672053708>, line 4\u001B[0m\n",
       "\u001B[1;32m      2\u001B[0m \u001B[38;5;28;01mimport\u001B[39;00m \u001B[38;5;21;01mos\u001B[39;00m\n",
       "\u001B[1;32m      3\u001B[0m \u001B[38;5;28;01mimport\u001B[39;00m \u001B[38;5;21;01mjson\u001B[39;00m\n",
       "\u001B[0;32m----> 4\u001B[0m \u001B[38;5;28;01mimport\u001B[39;00m \u001B[38;5;21;01mpymongo\u001B[39;00m\n",
       "\u001B[1;32m      5\u001B[0m \u001B[38;5;28;01mimport\u001B[39;00m \u001B[38;5;21;01mpyspark\u001B[39;00m\u001B[38;5;21;01m.\u001B[39;00m\u001B[38;5;21;01mpandas\u001B[39;00m \u001B[38;5;28;01mas\u001B[39;00m \u001B[38;5;21;01mpd\u001B[39;00m  \u001B[38;5;66;03m# This uses Koalas that is included in PySpark version 3.2 or newer.\u001B[39;00m\n",
       "\u001B[1;32m      6\u001B[0m \u001B[38;5;28;01mfrom\u001B[39;00m \u001B[38;5;21;01mpyspark\u001B[39;00m\u001B[38;5;21;01m.\u001B[39;00m\u001B[38;5;21;01msql\u001B[39;00m\u001B[38;5;21;01m.\u001B[39;00m\u001B[38;5;21;01mfunctions\u001B[39;00m \u001B[38;5;28;01mimport\u001B[39;00m col\n",
       "\n",
       "\u001B[0;31mModuleNotFoundError\u001B[0m: No module named 'pymongo'"
      ]
     },
     "metadata": {
      "application/vnd.databricks.v1+output": {
       "addedWidgets": {},
       "arguments": {},
       "datasetInfos": [],
       "jupyterProps": {
        "ename": "ModuleNotFoundError",
        "evalue": "No module named 'pymongo'"
       },
       "metadata": {
        "errorSummary": "Command skipped"
       },
       "removedWidgets": [],
       "sqlProps": null,
       "stackFrames": [
        "\u001B[0;31m---------------------------------------------------------------------------\u001B[0m",
        "\u001B[0;31mModuleNotFoundError\u001B[0m                       Traceback (most recent call last)",
        "File \u001B[0;32m<command-2926510672053708>, line 4\u001B[0m\n\u001B[1;32m      2\u001B[0m \u001B[38;5;28;01mimport\u001B[39;00m \u001B[38;5;21;01mos\u001B[39;00m\n\u001B[1;32m      3\u001B[0m \u001B[38;5;28;01mimport\u001B[39;00m \u001B[38;5;21;01mjson\u001B[39;00m\n\u001B[0;32m----> 4\u001B[0m \u001B[38;5;28;01mimport\u001B[39;00m \u001B[38;5;21;01mpymongo\u001B[39;00m\n\u001B[1;32m      5\u001B[0m \u001B[38;5;28;01mimport\u001B[39;00m \u001B[38;5;21;01mpyspark\u001B[39;00m\u001B[38;5;21;01m.\u001B[39;00m\u001B[38;5;21;01mpandas\u001B[39;00m \u001B[38;5;28;01mas\u001B[39;00m \u001B[38;5;21;01mpd\u001B[39;00m  \u001B[38;5;66;03m# This uses Koalas that is included in PySpark version 3.2 or newer.\u001B[39;00m\n\u001B[1;32m      6\u001B[0m \u001B[38;5;28;01mfrom\u001B[39;00m \u001B[38;5;21;01mpyspark\u001B[39;00m\u001B[38;5;21;01m.\u001B[39;00m\u001B[38;5;21;01msql\u001B[39;00m\u001B[38;5;21;01m.\u001B[39;00m\u001B[38;5;21;01mfunctions\u001B[39;00m \u001B[38;5;28;01mimport\u001B[39;00m col\n",
        "\u001B[0;31mModuleNotFoundError\u001B[0m: No module named 'pymongo'"
       ],
       "type": "baseError"
      }
     },
     "output_type": "display_data"
    }
   ],
   "source": [
    "#instantiate global variables\n",
    "# Azure MySQL Server Connection Information ###################\n",
    "jdbc_hostname = \"<exy8eb-mysql>.mysql.database.azure.com\"\n",
    "jdbc_port = 3306\n",
    "src_database = \"underwear\"\n",
    "\n",
    "connection_properties = {\n",
    "  \"user\" : \"exy8eb\",\n",
    "  \"password\" : \"password\",\n",
    "  \"driver\" : \"org.mariadb.jdbc.Driver\"\n",
    "}\n",
    "\n",
    "# MongoDB Atlas Connection Information ########################\n",
    "atlas_cluster_name = \"cluster_name.dfghbws\"\n",
    "atlas_database_name = \"underwear\"\n",
    "atlas_user_name = \"user_name\"\n",
    "atlas_password = \"password\"\n",
    "\n",
    "# Data Files (JSON) Information ###############################\n",
    "dst_database = \"underwear\"\n",
    "\n",
    "base_dir = \"dbfs:/FileStore/lab_data/retail/batch\"\n",
    "database_dir = f\"{base_dir}/{dst_database}\"\n",
    "\n",
    "data_dir = f\"{base_dir}/retail\"\n",
    "batch_dir = f\"{data_dir}/batch\"\n",
    "stream_dir = f\"{data_dir}/stream\"\n",
    "\n",
    "orders_stream_dir = f\"{stream_dir}/orders\"\n",
    "inventory_transactions_stream_dir = f\"{stream_dir}/inventory_transactions\"\n",
    "purhcase_orders_stream_dir = f\"{stream_dir}/products\"\n",
    "\n",
    "orders_output_bronze = f\"{database_dir}/fact_orders/bronze\"\n",
    "orders_output_silver = f\"{database_dir}/fact_orders/silver\"\n",
    "orders_output_gold   = f\"{database_dir}/fact_orders/gold\"\n",
    "\n",
    "inventory_trans_output_bronze = f\"{database_dir}/fact_inventory_transactions/bronze\"\n",
    "inventory_trans_output_silver = f\"{database_dir}/fact_inventory_transactions/silver\"\n",
    "inventory_trans_output_gold   = f\"{database_dir}/fact_inventory_transactions/gold\"\n",
    "\n",
    "purchase_orders_output_bronze = f\"{database_dir}/fact_purchase_orders/bronze\"\n",
    "purchase_orders_output_silver = f\"{database_dir}/fact_purchase_orders/silver\"\n",
    "purchase_orders_output_gold   = f\"{database_dir}/fact_purchase_orders/gold\"\n",
    "\n",
    "# Delete the Streaming Files ################################## \n",
    "dbutils.fs.rm(f\"{database_dir}/fact_orders\", True) \n",
    "dbutils.fs.rm(f\"{database_dir}/fact_inventory_transactions\", True) \n",
    "dbutils.fs.rm(f\"{database_dir}/fact_purchase_orders\", True) \n",
    "\n",
    "# Delete the Database Files ###################################\n",
    "dbutils.fs.rm(database_dir, True)"
   ]
  },
  {
   "cell_type": "markdown",
   "metadata": {
    "application/vnd.databricks.v1+cell": {
     "cellMetadata": {},
     "inputWidgets": {},
     "nuid": "4572645a-9868-4aa6-86c4-9fb1b4288526",
     "showTitle": false,
     "title": ""
    }
   },
   "source": [
    "Define Global Functions"
   ]
  },
  {
   "cell_type": "code",
   "execution_count": 0,
   "metadata": {
    "application/vnd.databricks.v1+cell": {
     "cellMetadata": {},
     "inputWidgets": {},
     "nuid": "34674f2a-35aa-409b-9358-c121c8765577",
     "showTitle": false,
     "title": ""
    }
   },
   "outputs": [],
   "source": [
    "#Define Global Functions\n",
    "##################################################################################################################\n",
    "# Use this Function to Fetch a DataFrame from the MongoDB Atlas database server Using PyMongo.\n",
    "##################################################################################################################\n",
    "def get_mongo_dataframe(user_id, pwd, cluster_name, db_name, collection, conditions, projection, sort):\n",
    "    '''Create a client connection to MongoDB'''\n",
    "    mongo_uri = f\"mongodb+srv://{user_id}:{pwd}@{cluster_name}.mongodb.net/{db_name}\"\n",
    "    \n",
    "    client = pymongo.MongoClient(mongo_uri)\n",
    "\n",
    "    '''Query MongoDB, and fill a python list with documents to create a DataFrame'''\n",
    "    db = client[db_name]\n",
    "    if conditions and projection and sort:\n",
    "        dframe = pd.DataFrame(list(db[collection].find(conditions, projection).sort(sort)))\n",
    "    elif conditions and projection and not sort:\n",
    "        dframe = pd.DataFrame(list(db[collection].find(conditions, projection)))\n",
    "    else:\n",
    "        dframe = pd.DataFrame(list(db[collection].find()))\n",
    "\n",
    "    client.close()\n",
    "    \n",
    "    return dframe\n",
    "\n",
    "##################################################################################################################\n",
    "# Use this Function to Create New Collections by Uploading JSON file(s) to the MongoDB Atlas server.\n",
    "##################################################################################################################\n",
    "def set_mongo_collection(user_id, pwd, cluster_name, db_name, src_file_path, json_files):\n",
    "    '''Create a client connection to MongoDB'''\n",
    "    mongo_uri = f\"mongodb+srv://{user_id}:{pwd}@{cluster_name}.mongodb.net/{db_name}\"\n",
    "    client = pymongo.MongoClient(mongo_uri)\n",
    "    db = client[db_name]\n",
    "    \n",
    "    '''Read in a JSON file, and Use It to Create a New Collection'''\n",
    "    for file in json_files:\n",
    "        db.drop_collection(file)\n",
    "        json_file = os.path.join(src_file_path, json_files[file])\n",
    "        with open(json_file, 'r') as openfile:\n",
    "            json_object = json.load(openfile)\n",
    "            file = db[file]\n",
    "            result = file.insert_many(json_object)\n",
    "\n",
    "    client.close()\n",
    "    \n",
    "    return result"
   ]
  },
  {
   "cell_type": "markdown",
   "metadata": {
    "application/vnd.databricks.v1+cell": {
     "cellMetadata": {},
     "inputWidgets": {},
     "nuid": "aa2bd6f7-6ab1-4f9c-a222-fdec7627ab81",
     "showTitle": false,
     "title": ""
    }
   },
   "source": [
    "Fetch Date from Azure MySQL Database"
   ]
  },
  {
   "cell_type": "code",
   "execution_count": 0,
   "metadata": {
    "application/vnd.databricks.v1+cell": {
     "cellMetadata": {},
     "inputWidgets": {},
     "nuid": "a6790d05-a0b8-4b00-91a2-4f50ee8d1b0a",
     "showTitle": false,
     "title": ""
    }
   },
   "outputs": [],
   "source": [
    "%sql\n",
    "DROP DATABASE IF EXISTS underwear_dlh CASCADE;"
   ]
  },
  {
   "cell_type": "code",
   "execution_count": 0,
   "metadata": {
    "application/vnd.databricks.v1+cell": {
     "cellMetadata": {},
     "inputWidgets": {},
     "nuid": "74ed566f-9aca-43b3-bbd8-80c9aa4cac55",
     "showTitle": false,
     "title": ""
    }
   },
   "outputs": [],
   "source": [
    "%sql\n",
    "CREATE DATABASE IF NOT EXISTS underwear_dlh\n",
    "COMMENT \"DS-2002 Lab 06 Database\"\n",
    "LOCATION \"dbfs:/FileStore/lab_data/underwear_dlh\"\n",
    "WITH DBPROPERTIES (contains_pii = true, purpose = \"Final\");"
   ]
  },
  {
   "cell_type": "markdown",
   "metadata": {
    "application/vnd.databricks.v1+cell": {
     "cellMetadata": {},
     "inputWidgets": {},
     "nuid": "23dc2424-55a7-4790-892e-beaffa474421",
     "showTitle": false,
     "title": ""
    }
   },
   "source": [
    "Get dim_date from Azure MySQL"
   ]
  },
  {
   "cell_type": "code",
   "execution_count": 0,
   "metadata": {
    "application/vnd.databricks.v1+cell": {
     "cellMetadata": {},
     "inputWidgets": {},
     "nuid": "3b580eb4-2b94-419d-9371-547af39b8924",
     "showTitle": false,
     "title": ""
    }
   },
   "outputs": [],
   "source": [
    "%sql\n",
    "CREATE OR REPLACE TEMPORARY VIEW view_date\n",
    "USING org.apache.spark.sql.jdbc\n",
    "OPTIONS (\n",
    "  url \"jdbc:mysql://exy8eb-mysql.mysql.database.azure.com:3306/underwear\", --Replace with your Server Name\n",
    "  dbtable \"dim_date\",\n",
    "  user \"exy8eb\",    --Replace with your User Name\n",
    "  password \"password\"  --Replace with you password\n",
    ")"
   ]
  },
  {
   "cell_type": "code",
   "execution_count": 0,
   "metadata": {
    "application/vnd.databricks.v1+cell": {
     "cellMetadata": {},
     "inputWidgets": {},
     "nuid": "725bf051-5a05-4d1b-99ad-c4f7f1c1b444",
     "showTitle": false,
     "title": ""
    }
   },
   "outputs": [],
   "source": [
    "%sql\n",
    "USE DATABASE underwear_dlh;\n",
    "\n",
    "CREATE OR REPLACE TABLE underwear_dlh.dim_date\n",
    "COMMENT \"Date Dimension Table\"\n",
    "LOCATION \"dbfs:/FileStore/lab_data/underwear_dlh/dim_date\"\n",
    "AS SELECT * FROM view_date"
   ]
  },
  {
   "cell_type": "code",
   "execution_count": 0,
   "metadata": {
    "application/vnd.databricks.v1+cell": {
     "cellMetadata": {},
     "inputWidgets": {},
     "nuid": "ae8e0cd1-aa00-4f0e-9808-c1369de7ad35",
     "showTitle": false,
     "title": ""
    }
   },
   "outputs": [],
   "source": [
    "%sql\n",
    "DESCRIBE EXTENDED underwear_dlh.dim_date;"
   ]
  },
  {
   "cell_type": "code",
   "execution_count": 0,
   "metadata": {
    "application/vnd.databricks.v1+cell": {
     "cellMetadata": {},
     "inputWidgets": {},
     "nuid": "047138df-cc67-40a4-9575-62deae270959",
     "showTitle": false,
     "title": ""
    }
   },
   "outputs": [],
   "source": [
    "%sql\n",
    "SELECT * FROM underwear_dlh.dim_date LIMIT 5"
   ]
  },
  {
   "cell_type": "markdown",
   "metadata": {
    "application/vnd.databricks.v1+cell": {
     "cellMetadata": {},
     "inputWidgets": {},
     "nuid": "5fc7f0d0-5c22-46bd-a62c-1e8e78e1dc1b",
     "showTitle": false,
     "title": ""
    }
   },
   "source": [
    "Get dim_products from AzureMySql"
   ]
  },
  {
   "cell_type": "code",
   "execution_count": 0,
   "metadata": {
    "application/vnd.databricks.v1+cell": {
     "cellMetadata": {},
     "inputWidgets": {},
     "nuid": "524d7a8c-d4df-4755-8541-e7a6c2836292",
     "showTitle": false,
     "title": ""
    }
   },
   "outputs": [],
   "source": [
    "%sql\n",
    "-- Create a Temporary View named \"view_product\" that extracts data from your MySQL Underwear database.\n",
    "CREATE OR REPLACE TEMPORARY VIEW view_product\n",
    "USING org.apache.sql.jdbc\n",
    "OPTIONS (\n",
    "  url \"jdbc:mysql://exy8eb-mysql.mysql.database.azure.com:3306/underwear_dw2\",\n",
    "  dbtable \"dim_products\"\n",
    "  user \"exy8eb\"\n",
    "  password \"password\"\n",
    ")"
   ]
  },
  {
   "cell_type": "code",
   "execution_count": 0,
   "metadata": {
    "application/vnd.databricks.v1+cell": {
     "cellMetadata": {},
     "inputWidgets": {},
     "nuid": "d6a34507-4cfb-45d7-9048-f91835f6a35f",
     "showTitle": false,
     "title": ""
    }
   },
   "outputs": [],
   "source": [
    "%sql\n",
    "USE DATABASE underwear_dlh;\n",
    "\n",
    "-- Create a new table named \"northwind_dlh.dim_product\" using data from the view named \"view_product\"\n",
    "CREATE OR REPLACE TABLE underwear_dlh.dim_product\n",
    "COMMENT \"Products Dimension Table\"\n",
    "LOCATION \"dbfs:/FileStore/lab_data/underwear_dlh/dim_product\"\n",
    "AS SELECT * FROM view_product"
   ]
  },
  {
   "cell_type": "code",
   "execution_count": 0,
   "metadata": {
    "application/vnd.databricks.v1+cell": {
     "cellMetadata": {},
     "inputWidgets": {},
     "nuid": "002fadd5-8649-4d52-abaa-a862a295a34b",
     "showTitle": false,
     "title": ""
    }
   },
   "outputs": [],
   "source": [
    "%sql\n",
    "DESCRIBE EXTENDED underwear_dlh.dim_product;"
   ]
  },
  {
   "cell_type": "code",
   "execution_count": 0,
   "metadata": {
    "application/vnd.databricks.v1+cell": {
     "cellMetadata": {},
     "inputWidgets": {},
     "nuid": "b3aefd0c-f131-4ad9-813b-f8e1d0bb13c7",
     "showTitle": false,
     "title": ""
    }
   },
   "outputs": [],
   "source": [
    "%sql\n",
    "SELECT * FROM underwear_dlh.dim_product LIMIT 5"
   ]
  },
  {
   "cell_type": "markdown",
   "metadata": {
    "application/vnd.databricks.v1+cell": {
     "cellMetadata": {},
     "inputWidgets": {},
     "nuid": "bd3a1182-7bed-4c44-ab8e-1c174843cd21",
     "showTitle": false,
     "title": ""
    }
   },
   "source": [
    "Use PySparks to Read in dim_customers from csv"
   ]
  },
  {
   "cell_type": "code",
   "execution_count": 0,
   "metadata": {
    "application/vnd.databricks.v1+cell": {
     "cellMetadata": {},
     "inputWidgets": {},
     "nuid": "5956ac51-2f5c-40d5-8581-21f8e6bf52d9",
     "showTitle": false,
     "title": ""
    }
   },
   "outputs": [],
   "source": [
    "#read in csv\n",
    "customer_csv = f\"{batch_dir}/Underwear_DimCustomers.csv\"\n",
    "\n",
    "df_customers = spark.read.format('csv').options(header='true', inferSchema='true').load(customer_csv)\n",
    "display(df_customers)\n",
    "\n",
    "inventory_transactions_csv = f\"{batch_dir}/Underwear_DimInventoryTransactions.csv\"\n",
    "\n",
    "df_inventory_transactions = spark.read.format('csv').options(header='true', inferSchema='true').load(inventory_transactions_csv)\n",
    "display(df_inventory_transactions)\n",
    "\n",
    "order_details_csv = f\"{batch_dir}/Underwear_DimOrderDetails.csv\"\n",
    "\n",
    "df_order_details = spark.read.format('csv').options(header='true', inferSchema='true').load(order_details_csv)\n",
    "display(df_order_details)\n",
    "\n",
    "suppliers_csv = f\"{batch_dir}/Underwear_DimSuppliers.csv\"\n",
    "\n",
    "df_suppliers = spark.read.format('csv').options(header='true', inferSchema='true').load(suppliers_csv)\n",
    "display(df_suppliers)"
   ]
  },
  {
   "cell_type": "code",
   "execution_count": 0,
   "metadata": {
    "application/vnd.databricks.v1+cell": {
     "cellMetadata": {},
     "inputWidgets": {},
     "nuid": "9c285381-897d-4fd1-9abe-6f804efdebca",
     "showTitle": false,
     "title": ""
    }
   },
   "outputs": [],
   "source": [
    "df_customers.printSchema()\n",
    "df_inventory_transactions.printSchema()\n",
    "df_order_details.printSchema()"
   ]
  },
  {
   "cell_type": "code",
   "execution_count": 0,
   "metadata": {
    "application/vnd.databricks.v1+cell": {
     "cellMetadata": {},
     "inputWidgets": {},
     "nuid": "5ae732ff-8920-4feb-be94-add25b25feef",
     "showTitle": false,
     "title": ""
    }
   },
   "outputs": [],
   "source": [
    "df_customers.write.format(\"delta\").mode(\"overwrite\").saveAsTable(\"underwear_dlh.dim_customers\")\n",
    "df_inventory_transactions.write.format(\"delta\").mode(\"overwrite\").saveAsTable(\"underwear_dlh.dim_inventory_transactions\")\n",
    "df_order_details.write.format(\"delta\").mode(\"overwrite\").saveAsTable(\"underwear_dlh.dim_order_details\")\n",
    "df_suppliers.write.format(\"delta\").mode(\"overwrite\").saveAsTable(\"underwear_dlh.dim_suppliers\")"
   ]
  },
  {
   "cell_type": "code",
   "execution_count": 0,
   "metadata": {
    "application/vnd.databricks.v1+cell": {
     "cellMetadata": {},
     "inputWidgets": {},
     "nuid": "75bc5ac4-19bc-436b-8da8-7e5ec463890c",
     "showTitle": false,
     "title": ""
    }
   },
   "outputs": [],
   "source": [
    "%sql\n",
    "DESCRIBE EXTENDED underwear_dlh.dim_customers;\n",
    "DESCRIBE EXTENDED underwear_dlh.dim_inventory_transactions;\n",
    "DESCRIBE EXTENDED underwear_dlh.dim_order_details;\n",
    "DESCRIBE EXTENDED underwear_dlh.dim_suppliers;"
   ]
  },
  {
   "cell_type": "code",
   "execution_count": 0,
   "metadata": {
    "application/vnd.databricks.v1+cell": {
     "cellMetadata": {},
     "inputWidgets": {},
     "nuid": "750d5bf8-7e7e-42a3-a25e-bfa26c633429",
     "showTitle": false,
     "title": ""
    }
   },
   "outputs": [],
   "source": [
    "%sql\n",
    "SELECT * FROM underwear_dlh.dim_customers LIMIT 5;\n",
    "SELECT * FROM underwear_dlh.dim_inventory_transactions LIMIT 5;\n",
    "SELECT * FROM underwear_dlh.dim_order_details LIMIT 5;\n",
    "SELECT * FROM underwear_dlh.dim_suppliers LIMIT 5;"
   ]
  },
  {
   "cell_type": "code",
   "execution_count": 0,
   "metadata": {
    "application/vnd.databricks.v1+cell": {
     "cellMetadata": {},
     "inputWidgets": {},
     "nuid": "d7fe5e50-d81a-45bd-9e1a-2761034eb03c",
     "showTitle": false,
     "title": ""
    }
   },
   "outputs": [],
   "source": [
    "#verify dimension tables\n",
    "%sql\n",
    "USE underwear_dlh;\n",
    "SHOW TABLES"
   ]
  },
  {
   "cell_type": "markdown",
   "metadata": {
    "application/vnd.databricks.v1+cell": {
     "cellMetadata": {},
     "inputWidgets": {},
     "nuid": "9baf07fa-a986-43ba-a3a2-fa201285aeec",
     "showTitle": false,
     "title": ""
    }
   },
   "source": [
    "Fetch Reference Data from a MongoDB Atlas Database"
   ]
  },
  {
   "cell_type": "code",
   "execution_count": 0,
   "metadata": {
    "application/vnd.databricks.v1+cell": {
     "cellMetadata": {},
     "inputWidgets": {},
     "nuid": "d453ef4e-89cf-4773-a283-bcdcfe6eb4e9",
     "showTitle": false,
     "title": ""
    }
   },
   "outputs": [],
   "source": [
    "display(dbutils.fs.ls(batch_dir))  # '/dbfs/FileStore/lab_data/retail/batch'"
   ]
  },
  {
   "cell_type": "markdown",
   "metadata": {
    "application/vnd.databricks.v1+cell": {
     "cellMetadata": {},
     "inputWidgets": {},
     "nuid": "9cd0cdea-273d-49b2-af8d-e794a43cbd94",
     "showTitle": false,
     "title": ""
    }
   },
   "source": [
    "Create a New MongoDB Database, and Load JSON Data Into a New MongoDB Collection"
   ]
  },
  {
   "cell_type": "code",
   "execution_count": 0,
   "metadata": {
    "application/vnd.databricks.v1+cell": {
     "cellMetadata": {},
     "inputWidgets": {},
     "nuid": "1297ed93-0613-4263-a652-096696aa5317",
     "showTitle": false,
     "title": ""
    }
   },
   "outputs": [],
   "source": [
    "source_dir = '/dbfs/FileStore/lab_data/retail/batch'\n",
    "json_files = {\"order\" : 'dim_order.json',\n",
    "              \"purchase_orders\" : 'dim_purchase_orders.json',\n",
    "              \"employee\" : 'dim_employee.json',\n",
    "              \"shipping_methods\" : \"dim_shipping_methods.json\",\n",
    "              }\n",
    "\n",
    "set_mongo_collection(atlas_user_name, atlas_password, atlas_cluster_name, atlas_database_name, source_dir, json_files) "
   ]
  },
  {
   "cell_type": "code",
   "execution_count": 0,
   "metadata": {
    "application/vnd.databricks.v1+cell": {
     "cellMetadata": {},
     "inputWidgets": {},
     "nuid": "6064b74a-de8f-4ec0-998a-113d2f71ca6b",
     "showTitle": false,
     "title": ""
    }
   },
   "outputs": [],
   "source": [
    "%scala\n",
    "import com.mongodb.spark._\n",
    "\n",
    "val userName = \"user_name\"\n",
    "val pwd = \"password\"\n",
    "val clusterName = \"cluster_name.xxxxx\"\n",
    "val atlas_uri = s\"mongodb+srv://$userName:$pwd@$clusterName.mongodb.net/?retryWrites=true&w=majority\""
   ]
  },
  {
   "cell_type": "code",
   "execution_count": 0,
   "metadata": {
    "application/vnd.databricks.v1+cell": {
     "cellMetadata": {},
     "inputWidgets": {},
     "nuid": "947374ef-eb54-4b1c-97ad-0d0067de4836",
     "showTitle": false,
     "title": ""
    }
   },
   "outputs": [],
   "source": [
    "%scala\n",
    "\n",
    "val df_dim_order = spark.read.format(\"com.mongodb.spark.sql.DefaultSource\")\n",
    ".option(\"uri\", atlas_uri).load()\n",
    ".option(\"database\", \"underwear\")\n",
    ".option(\"collection\", \"order\")\n",
    ".select(\"OrderId\",\"CustomerId\",\"EmployeeId\",\"ShippingMethodId\",\"OrderDate\",\"ShipDate\",\"FreightCharge\")\n",
    "\n",
    "display(df_dim_order)\n",
    "\n",
    "val df_dim_purchase_order = spark.read.format(\"com.mongodb.spark.sql.DefaultSource\")\n",
    ".option(\"uri\", atlas_uri).load()\n",
    ".option(\"database\", \"underwear\")\n",
    ".option(\"collection\", \"purchase_orders\")\n",
    ".select(\"PurchaseOrderId\",\"SupplierId\",\"EmployeeId\",\"ShippingMethodId\",\"OrderDate\")\n",
    "\n",
    "display(df_dim_purchase_orders)\n",
    "\n",
    "val df_dim_employee = spark.read.format(\"com.mongodb.spark.sql.DefaultSource\")\n",
    ".option(\"uri\", atlas_uri).load()\n",
    ".option(\"database\", \"underwear\")\n",
    ".option(\"collection\", \"employee\")\n",
    ".select(\"EmployeeId\",\"EmployeeName\")\n",
    "\n",
    "display(df_dim_employee)\n",
    "\n",
    "val df_dim_shipping_methods = spark.read.format(\"com.mongodb.spark.sql.DefaultSource\")\n",
    ".option(\"uri\", atlas_uri).load()\n",
    ".option(\"database\", \"underwear\")\n",
    ".option(\"collection\", \"employee\")\n",
    ".select(\"ShippingMethodId\",\"ShippingMethod\")\n",
    "\n",
    "display(df_dim_shipping_methods)\n",
    "\n",
    "val df_dim_inventory_transactions = spark.read.format(\"com.mongodb.spark.sql.DefaultSource\")\n",
    ".option(\"uri\", atlas_uri).load()\n",
    ".option(\"database\", \"underwear\")\n",
    ".option(\"collection\", \"inventory_transactions\")\n",
    ".select(\"TransactionId\",\"ProductId\", \"PurchaseOrderId\",\"MissingId\",\"TransactionDate\",\"UnitPurchasePrice\",\"QuantityOrdered\",\"QuantityReceived\",\"QuantityMissing\")\n",
    "\n",
    "display(df_dim_inventory_transactions)\n",
    "\n",
    "val df_dim_order_details = spark.read.format(\"com.mongodb.spark.sql.DefaultSource\")\n",
    ".option(\"uri\", atlas_uri).load()\n",
    ".option(\"database\", \"underwear\")\n",
    ".option(\"collection\", \"order_details\")\n",
    ".select(\"OrderDetailId\",\"OrderId\", \"ProductId\",\"QuantitySold\",\"UnitSalesPrice\")\n",
    "\n",
    "display(df_dim_order_details)\n",
    "\n",
    "val df_dim_suppliers = spark.read.format(\"com.mongodb.spark.sql.DefaultSource\")\n",
    ".option(\"uri\", atlas_uri).load()\n",
    ".option(\"database\", \"underwear\")\n",
    ".option(\"collection\", \"suppliers\")\n",
    ".select(\"SupplierId\",\"SupplierName\")\n",
    "\n",
    "display(df_dim_suppliers)"
   ]
  },
  {
   "cell_type": "code",
   "execution_count": 0,
   "metadata": {
    "application/vnd.databricks.v1+cell": {
     "cellMetadata": {},
     "inputWidgets": {},
     "nuid": "1c75035f-d912-4eed-b511-9d75aba6fade",
     "showTitle": false,
     "title": ""
    }
   },
   "outputs": [],
   "source": [
    "%scala\n",
    "\n",
    "df_dim_order.write.format(\"delta\").mode(\"overwrite\").saveAsTable(\"underwear_dlh.order\")\n",
    "df_dim_purchase_orders.write.format(\"delta\").mode(\"overwrite\").saveAsTable(\"underwear_dlh.purchase_orders\")\n",
    "df_dim_employee.write.format(\"delta\").mode(\"overwrite\").saveAsTable(\"underwear_dlh.employee\")\n",
    "df_dim_shipping_methods.write.format(\"delta\").mode(\"overwrite\").saveAsTable(\"underwear_dlh.shipping_methods\")\n",
    "df_dim_inventory_transactions.write.format(\"delta\").mode(\"overwrite\").saveAsTable(\"underwear_dlh.inventory_transactions\")\n",
    "df_dim_order_details.write.format(\"delta\").mode(\"overwrite\").saveAsTable(\"underwear_dlh.order_details\")\n",
    "df_dim_order_details.write.format(\"delta\").mode(\"overwrite\").saveAsTable(\"underwear_dlh.suppliers\")"
   ]
  },
  {
   "cell_type": "code",
   "execution_count": 0,
   "metadata": {
    "application/vnd.databricks.v1+cell": {
     "cellMetadata": {},
     "inputWidgets": {},
     "nuid": "91631912-7a10-415e-8293-a75c116f49d1",
     "showTitle": false,
     "title": ""
    }
   },
   "outputs": [],
   "source": [
    "%sql\n",
    "\n",
    "DESCRIBE EXTENDED underwear_dlh.order\n",
    "DESCRIBE EXTENDED underwear_dlh.purchase_orders\n",
    "DESCRIBE EXTENDED underwear_dlh.employee\n",
    "DESCRIBE EXTENDED underwear_dlh.shipping_methods\n",
    "DESCRIBE EXTENDED underwear_dlh.inventory_transactions\n",
    "DESCRIBE EXTENDED underwear_dlh.order_details\n",
    "DESCRIBE EXTENDED underwear_dlh.suppliers"
   ]
  },
  {
   "cell_type": "markdown",
   "metadata": {
    "application/vnd.databricks.v1+cell": {
     "cellMetadata": {},
     "inputWidgets": {},
     "nuid": "2b257980-4d1c-4d09-8b82-19828f104838",
     "showTitle": false,
     "title": ""
    }
   },
   "source": [
    "Do Bronze Table to create fact_order table"
   ]
  },
  {
   "cell_type": "code",
   "execution_count": 0,
   "metadata": {
    "application/vnd.databricks.v1+cell": {
     "cellMetadata": {},
     "inputWidgets": {},
     "nuid": "c268646d-ba91-40bc-8fb0-aade676044bd",
     "showTitle": false,
     "title": ""
    }
   },
   "outputs": [],
   "source": [
    "(spark.readStream\n",
    " .format(\"cloudFiles\")\n",
    " .option(\"cloudFiles.format\", \"json\")\n",
    " #.option(\"cloudFiles.schemaHints\", \"fact_order_key BIGINT\")\n",
    " #.option(\"cloudFiles.schemaHints\", \"OrderId BIGINT\")\n",
    " #.option(\"cloudFiles.schemaHints\", \"CustomerId BIGINT\")\n",
    " #.option(\"cloudFiles.schemaHints\", \"EmployeeId BIGINT\") \n",
    " #.option(\"cloudFiles.schemaHints\", \"ShippingMethodId BIGINT\")\n",
    " #.option(\"cloudFiles.schemaHints\", \"OrderDate DECIMAL\")\n",
    " #.option(\"cloudFiles.schemaHints\", \"ShipDate DECIMAL\")\n",
    " #.option(\"cloudFiles.schemaHints\", \"FreightCharge DECIMAL\")\n",
    " .option(\"cloudFiles.schemaLocation\", products_output_bronze)\n",
    " .option(\"cloudFiles.inferColumnTypes\", \"true\")\n",
    " .option(\"multiLine\", \"true\")\n",
    " .load(products_stream_dir)\n",
    " .createOrReplaceTempView(\"products_raw_tempview\"))"
   ]
  },
  {
   "cell_type": "code",
   "execution_count": 0,
   "metadata": {
    "application/vnd.databricks.v1+cell": {
     "cellMetadata": {},
     "inputWidgets": {},
     "nuid": "0bb53195-399b-4852-baf7-1e27ac7a3b7e",
     "showTitle": false,
     "title": ""
    }
   },
   "outputs": [],
   "source": [
    "%sql\n",
    "/* Add Metadata for Traceability */\n",
    "CREATE OR REPLACE TEMPORARY VIEW orders_bronze_tempview AS (\n",
    "  SELECT *, current_timestamp() receipt_time, input_file_name() source_file\n",
    "  FROM orders_raw_tempview\n",
    ")"
   ]
  },
  {
   "cell_type": "code",
   "execution_count": 0,
   "metadata": {
    "application/vnd.databricks.v1+cell": {
     "cellMetadata": {},
     "inputWidgets": {},
     "nuid": "75bf8184-9f0a-4b74-af09-e57eb5ba05fc",
     "showTitle": false,
     "title": ""
    }
   },
   "outputs": [],
   "source": [
    "%sql\n",
    "SELECT * FROM orders_bronze_tempview"
   ]
  },
  {
   "cell_type": "code",
   "execution_count": 0,
   "metadata": {
    "application/vnd.databricks.v1+cell": {
     "cellMetadata": {},
     "inputWidgets": {},
     "nuid": "d48b7dc1-9fef-428f-b720-2c35843b7b52",
     "showTitle": false,
     "title": ""
    }
   },
   "outputs": [],
   "source": [
    "(spark.table(\"orders_bronze_tempview\")\n",
    "      .writeStream\n",
    "      .format(\"delta\")\n",
    "      .option(\"checkpointLocation\", f\"{orders_output_bronze}/_checkpoint\")\n",
    "      .outputMode(\"append\")\n",
    "      .table(\"fact_orders_bronze\"))"
   ]
  },
  {
   "cell_type": "markdown",
   "metadata": {
    "application/vnd.databricks.v1+cell": {
     "cellMetadata": {},
     "inputWidgets": {},
     "nuid": "46b31c97-36e5-409a-af80-a5a5ca1f3518",
     "showTitle": false,
     "title": ""
    }
   },
   "source": [
    "Create Silver Table"
   ]
  },
  {
   "cell_type": "code",
   "execution_count": 0,
   "metadata": {
    "application/vnd.databricks.v1+cell": {
     "cellMetadata": {},
     "inputWidgets": {},
     "nuid": "2ea2b4b9-5587-426c-b19c-4226d629ba71",
     "showTitle": false,
     "title": ""
    }
   },
   "outputs": [],
   "source": [
    "(spark.readStream\n",
    "  .table(\"fact_orders_bronze\")\n",
    "  .createOrReplaceTempView(\"orders_silver_tempview\"))"
   ]
  },
  {
   "cell_type": "code",
   "execution_count": 0,
   "metadata": {
    "application/vnd.databricks.v1+cell": {
     "cellMetadata": {},
     "inputWidgets": {},
     "nuid": "95409f58-6a59-4118-8e8b-d59248b245d2",
     "showTitle": false,
     "title": ""
    }
   },
   "outputs": [],
   "source": [
    "%sql\n",
    "SELECT * FROM orders_silver_tempview"
   ]
  },
  {
   "cell_type": "code",
   "execution_count": 0,
   "metadata": {
    "application/vnd.databricks.v1+cell": {
     "cellMetadata": {},
     "inputWidgets": {},
     "nuid": "4d8351c4-ed13-491e-a709-a5c791a71732",
     "showTitle": false,
     "title": ""
    }
   },
   "outputs": [],
   "source": [
    "%sql\n",
    "DESCRIBE EXTENDED orders_silver_tempview"
   ]
  },
  {
   "cell_type": "code",
   "execution_count": 0,
   "metadata": {
    "application/vnd.databricks.v1+cell": {
     "cellMetadata": {},
     "inputWidgets": {},
     "nuid": "4fb352f3-6607-4d23-9caf-79d6a27cada4",
     "showTitle": false,
     "title": ""
    }
   },
   "outputs": [],
   "source": [
    "%sql\n",
    "CREATE OR REPLACE TEMPORARY VIEW fact_orders_silver_tempview AS (\n",
    "  SELECT o.fact_order_key,\n",
    "      o.OrderId,\n",
    "      od.OrderDetailId,\n",
    "      od.ProductId,\n",
    "      p.ProductName AS product_name,\n",
    "      p.Color AS color,\n",
    "      p.ModelDescription AS model_description, \n",
    "      p.FabricDescription AS fabric_description,\n",
    "      p.Category AS category, \n",
    "      p.Gender AS gender,\n",
    "      p.ProductLine AS product_line,\n",
    "      p.Weight AS weight,\n",
    "      p.Size AS size,\n",
    "      p.PackSize AS pack_size,\n",
    "      p.Status AS status, \n",
    "      p.InventoryDate AS inventory_date, \n",
    "      p.PurchasePrice AS purchase_price,\n",
    "      o.EmployeeId,\n",
    "      e.EmployeeName AS employee_name,\n",
    "      o.ShippingMethodId,\n",
    "      sm.ShippingMethod AS shipping_method,\n",
    "      dd.OrderDate AS order_date,\n",
    "      dd.month_name AS order_month_name,\n",
    "      ds.ShipDate As ship_date,\n",
    "      o.FreightCharge AS freight_charge,\n",
    "\n",
    "  FROM orders_silver_tempview AS o\n",
    "  INNER JOIN underwear_dlh.dim_employees AS e\n",
    "  ON e.EmployeeId = o.EmployeeId\n",
    "  INNER JOIN underwear_dlh.dim_customers AS c\n",
    "  ON c.CustomerId = o.CustomerId\n",
    "  INNER JOIN underwear_dlh.dim_shipping_methods AS sm\n",
    "  ON sm.ShippingMethodId = o.ShippingMethodId\n",
    "  INNER JOIN underwear_dlh.dim_order_details AS od\n",
    "  ON od.OrderId = o.OrderId\n",
    "  INNER JOIN underwear_dlh.dim_products AS p\n",
    "  ON p.ProductId = o.ProductId\n",
    "  LEFT OUTER JOIN underwear_dlh.dim_date AS dd\n",
    "  ON od.DateId = o.OrderDate\n",
    "  LEFT OUTER JOIN underwear_dlh.dim_date AS ds\n",
    "  ON ds.DateId = o.ShipDate\n",
    ")"
   ]
  },
  {
   "cell_type": "code",
   "execution_count": 0,
   "metadata": {
    "application/vnd.databricks.v1+cell": {
     "cellMetadata": {},
     "inputWidgets": {},
     "nuid": "f7f4834c-a53e-40d2-bc13-518dd5d6f3ab",
     "showTitle": false,
     "title": ""
    }
   },
   "outputs": [],
   "source": [
    "(spark.table(\"fact_orders_silver_tempview\")\n",
    "      .writeStream\n",
    "      .format(\"delta\")\n",
    "      .option(\"checkpointLocation\", f\"{orders_output_silver}/_checkpoint\")\n",
    "      .outputMode(\"append\")\n",
    "      .table(\"fact_orders_silver\"))"
   ]
  },
  {
   "cell_type": "code",
   "execution_count": 0,
   "metadata": {
    "application/vnd.databricks.v1+cell": {
     "cellMetadata": {},
     "inputWidgets": {},
     "nuid": "4439aec9-2a0d-43b9-92f9-953cbf288feb",
     "showTitle": false,
     "title": ""
    }
   },
   "outputs": [],
   "source": [
    "%sql\n",
    "SELECT * FROM fact_orders_silver"
   ]
  },
  {
   "cell_type": "code",
   "execution_count": 0,
   "metadata": {
    "application/vnd.databricks.v1+cell": {
     "cellMetadata": {},
     "inputWidgets": {},
     "nuid": "dc98f5c4-218b-489e-8471-aa5d20429438",
     "showTitle": false,
     "title": ""
    }
   },
   "outputs": [],
   "source": [
    "%sql\n",
    "DESCRIBE EXTENDED underwear_dlh.fact_orders_silver"
   ]
  },
  {
   "cell_type": "markdown",
   "metadata": {
    "application/vnd.databricks.v1+cell": {
     "cellMetadata": {},
     "inputWidgets": {},
     "nuid": "38752d1a-708b-4034-b724-cd4d068e6fde",
     "showTitle": false,
     "title": ""
    }
   },
   "source": [
    "Create Gold Tables"
   ]
  },
  {
   "cell_type": "code",
   "execution_count": 0,
   "metadata": {
    "application/vnd.databricks.v1+cell": {
     "cellMetadata": {},
     "inputWidgets": {},
     "nuid": "61c2dc60-789e-4e54-8ed7-5ae7b584db9f",
     "showTitle": false,
     "title": ""
    }
   },
   "outputs": [],
   "source": [
    "#gold aggregations\n",
    "%sql\n",
    "CREATE OR REPLACE TABLE underwear_dlh.fact_monthly_orders_by_model_description_gold AS (\n",
    "  SELECT ProductId AS ProductID\n",
    "    , model_description AS ModelDescription\n",
    "    , order_month_name AS OrderMonth\n",
    "    , COUNT(ProductId) AS ProductCount\n",
    "  FROM underwear_dlh.fact_orders_silver\n",
    "  GROUP BY ProductId, ModelDescription, OrderMonth\n",
    "  ORDER BY ProductCount DESC);\n",
    "\n",
    "SELECT * FROM underwear_dlh.fact_monthly_products_by_customer_gold;"
   ]
  },
  {
   "cell_type": "markdown",
   "metadata": {
    "application/vnd.databricks.v1+cell": {
     "cellMetadata": {},
     "inputWidgets": {},
     "nuid": "5121678a-fe10-4c7b-afb4-dbd79bfe3eca",
     "showTitle": false,
     "title": ""
    }
   },
   "source": [
    "Create Bronze Table to Create an Inventory Transactions Fact Table\n"
   ]
  },
  {
   "cell_type": "code",
   "execution_count": 0,
   "metadata": {
    "application/vnd.databricks.v1+cell": {
     "cellMetadata": {},
     "inputWidgets": {},
     "nuid": "7099f0b1-3837-4099-be6d-7d76c27fc601",
     "showTitle": false,
     "title": ""
    }
   },
   "outputs": [],
   "source": [
    "(spark.readStream\n",
    " .format(\"cloudFiles\")\n",
    " .option(\"cloudFiles.format\", \"json\")\n",
    " #.option(\"cloudFiles.schemaHints\", \"TransactionId BIGINT\")\n",
    " #.option(\"cloudFiles.schemaHints\", \"ProductId BIGINT\")\n",
    " #.option(\"cloudFiles.schemaHints\", \"PurchaseOrderId BIGINT\")\n",
    " #.option(\"cloudFiles.schemaHints\", \"MissingId BIGINT\") \n",
    " #.option(\"cloudFiles.schemaHints\", \"TransactionDate BIGINT\")\n",
    " #.option(\"cloudFiles.schemaHints\", \"UnitPurchasePrice DECIMAL\")\n",
    " #.option(\"cloudFiles.schemaHints\", \"QuantityOrdered DECIMAL\")\n",
    " #.option(\"cloudFiles.schemaHints\", \"QuantityReceived DECIMAL\")\n",
    " #.option(\"cloudFiles.schemaHints\", \"QuantityMissing DECIMAL\") \n",
    " .option(\"cloudFiles.schemaLocation\", inventory_trans_output_bronze)\n",
    " .option(\"cloudFiles.inferColumnTypes\", \"true\")\n",
    " .option(\"multiLine\", \"true\")\n",
    " .load(inventory_trans_stream_dir)\n",
    " .createOrReplaceTempView(\"inventory_transactions_raw_tempview\"))"
   ]
  },
  {
   "cell_type": "code",
   "execution_count": 0,
   "metadata": {
    "application/vnd.databricks.v1+cell": {
     "cellMetadata": {},
     "inputWidgets": {},
     "nuid": "234da873-b9f0-40ca-a1fa-21205720abce",
     "showTitle": false,
     "title": ""
    }
   },
   "outputs": [],
   "source": [
    "%sql\n",
    "/* Add Metadata for Traceability */\n",
    "CREATE OR REPLACE TEMPORARY VIEW inventory_transactions_bronze_tempview AS (\n",
    "  SELECT *, current_timestamp() receipt_time, input_file_name() source_file\n",
    "  FROM inventory_transactions_raw_tempview\n",
    ")"
   ]
  },
  {
   "cell_type": "code",
   "execution_count": 0,
   "metadata": {
    "application/vnd.databricks.v1+cell": {
     "cellMetadata": {},
     "inputWidgets": {},
     "nuid": "1abff091-a339-4f13-b014-8d5379ab9385",
     "showTitle": false,
     "title": ""
    }
   },
   "outputs": [],
   "source": [
    "%sql\n",
    "SELECT * FROM inventory_transactions_raw_tempview"
   ]
  },
  {
   "cell_type": "code",
   "execution_count": 0,
   "metadata": {
    "application/vnd.databricks.v1+cell": {
     "cellMetadata": {},
     "inputWidgets": {},
     "nuid": "52c1f48f-4e34-47a8-87b6-be22be291581",
     "showTitle": false,
     "title": ""
    }
   },
   "outputs": [],
   "source": [
    "(spark.table(\"inventory_transactions_bronze_tempview\")\n",
    "     .writeStream\n",
    "     .format(\"delta\")\n",
    "     .option(\"checkpointLocation\", f\"{inventory_trans_output_bronze}/_checkpoint\")\n",
    "     .outputMode(\"append\")\n",
    "     .table(\"fact_inventory_transactions_bronze\"))"
   ]
  },
  {
   "cell_type": "markdown",
   "metadata": {
    "application/vnd.databricks.v1+cell": {
     "cellMetadata": {},
     "inputWidgets": {},
     "nuid": "fb9eda99-f0ef-4203-b304-dc4e69485dd8",
     "showTitle": false,
     "title": ""
    }
   },
   "source": [
    "Create Silver Table"
   ]
  },
  {
   "cell_type": "code",
   "execution_count": 0,
   "metadata": {
    "application/vnd.databricks.v1+cell": {
     "cellMetadata": {},
     "inputWidgets": {},
     "nuid": "ab710e12-7f17-41c1-8481-b248146de8a1",
     "showTitle": false,
     "title": ""
    }
   },
   "outputs": [],
   "source": [
    "(spark.readStream\n",
    "  .table(\"fact_inventory_transactions_bronze\")\n",
    "  .createOrReplaceTempView(\"inventory_transactions_silver_tempview\"))"
   ]
  },
  {
   "cell_type": "code",
   "execution_count": 0,
   "metadata": {
    "application/vnd.databricks.v1+cell": {
     "cellMetadata": {},
     "inputWidgets": {},
     "nuid": "3180c437-0fac-4651-940a-e5c1187ede7f",
     "showTitle": false,
     "title": ""
    }
   },
   "outputs": [],
   "source": [
    "%sql\n",
    "SELECT * FROM inventory_transactions_silver_tempview"
   ]
  },
  {
   "cell_type": "code",
   "execution_count": 0,
   "metadata": {
    "application/vnd.databricks.v1+cell": {
     "cellMetadata": {},
     "inputWidgets": {},
     "nuid": "b213da10-80a2-4858-863c-64a127344a00",
     "showTitle": false,
     "title": ""
    }
   },
   "outputs": [],
   "source": [
    "%sql\n",
    "DESCRIBE EXTENDED inventory_transactions_silver_tempview"
   ]
  },
  {
   "cell_type": "code",
   "execution_count": 0,
   "metadata": {
    "application/vnd.databricks.v1+cell": {
     "cellMetadata": {},
     "inputWidgets": {},
     "nuid": "37496de6-c03f-49e4-b2bb-b893f673b6d3",
     "showTitle": false,
     "title": ""
    }
   },
   "outputs": [],
   "source": [
    "%sql\n",
    "CREATE OR REPLACE TEMPORARY VIEW fact_inventory_transactions_silver_tempview AS (\n",
    "  SELECT it.fact_inventory_transaction_key,\n",
    "      it.TransactionId,\n",
    "      it.ProductId,\n",
    "      p.ProductName AS product_name,\n",
    "      p.Color AS color, \n",
    "      p.ModelDescription AS model_description, \n",
    "      p.FabricDescription AS fabric_description, \n",
    "      p.Category AS category, \n",
    "      p.Gender AS gender, \n",
    "      p.ProductLine AS product_line, \n",
    "      p.Weight AS weight, \n",
    "      p.Size AS size, \n",
    "      p.PackSize AS pack_size, \n",
    "      p.Status AS status, \n",
    "      p.InventoryDate AS inventory_date, \n",
    "      p.PurchasePrice AS purchase_price, \n",
    "      it.PurchaseOrderId, \n",
    "      po.SupplierId, \n",
    "      s.SupplierName AS supplier_name, \n",
    "      po.EmployeeId, \n",
    "      e.EmployeeName AS employee_name, \n",
    "      po.ShippingMethodId, \n",
    "      sm.ShippingMethod AS shipping_method, \n",
    "      po.OrderDate AS order_date,\n",
    "      it.MissingId,\n",
    "      it.TransactionDate AS transaction_date,\n",
    "      it.UnitPurchasePrice AS unit_purchase_price, \n",
    "      it.QuantityOrdered AS quantity_ordered, \n",
    "      it.QuantityReceived AS quantity_received, \n",
    "      it.QuantityMissing AS quantity_missing,\n",
    "      cd.day_name_of_week AS created_day_name_of_week,\n",
    "      cd.day_of_month AS created_day_of_month,\n",
    "      cd.weekday_weekend AS created_weekday_weekend,\n",
    "      cd.month_name AS created_month_name,\n",
    "      cd.calendar_quarter AS created_quarter, \n",
    "      cd.calendar_year AS created_year, \n",
    "  FROM inventory_transactions_silver_tempview AS it\n",
    "  INNER JOIN underwear_dlh.dim_product AS p\n",
    "  ON p.ProductId = it.ProductId\n",
    "  INNER JOIN northwind_dlh.dim_purchase_orders AS po\n",
    "  ON po.PurchaseOrderId = it.PurchaseOrderId\n",
    "  INNER JOIN northwind_dlh.dim_employee AS e\n",
    "  ON e.EmployeeId = it.EmployeeId\n",
    "  LEFT OUTER JOIN northwind_dlh.dim_shipping_methods AS sm\n",
    "  ON sm.ShippingMethodId = it.ShippingMethodId\n",
    "  LEFT OUTER JOIN northwind_dlh.dim_date AS cd\n",
    "  ON cd.DateId = it.TransactionDate\n",
    ")"
   ]
  },
  {
   "cell_type": "code",
   "execution_count": 0,
   "metadata": {
    "application/vnd.databricks.v1+cell": {
     "cellMetadata": {},
     "inputWidgets": {},
     "nuid": "0bc92cfd-781e-4f2c-99e4-097c1e120936",
     "showTitle": false,
     "title": ""
    }
   },
   "outputs": [],
   "source": [
    "(spark.table(\"fact_inventory_transactions_silver_tempview\")\n",
    "      .writeStream\n",
    "      .format(\"delta\")\n",
    "      .option(\"checkpointLocation\", f\"{inventory_trans_output_silver}/_checkpoint\")\n",
    "      .outputMode(\"append\")\n",
    "      .table(\"fact_inventory_transactions_silver\"))"
   ]
  },
  {
   "cell_type": "code",
   "execution_count": 0,
   "metadata": {
    "application/vnd.databricks.v1+cell": {
     "cellMetadata": {},
     "inputWidgets": {},
     "nuid": "d44f7242-8a4c-48ce-ae7c-8da8ef6d4d96",
     "showTitle": false,
     "title": ""
    }
   },
   "outputs": [],
   "source": [
    "%sql\n",
    "SELECT * FROM fact_inventory_transactions_silver"
   ]
  },
  {
   "cell_type": "code",
   "execution_count": 0,
   "metadata": {
    "application/vnd.databricks.v1+cell": {
     "cellMetadata": {},
     "inputWidgets": {},
     "nuid": "86ba3cf9-f330-4574-98f1-145d76be2479",
     "showTitle": false,
     "title": ""
    }
   },
   "outputs": [],
   "source": [
    "%sql\n",
    "DESCRIBE EXTENDED fact_inventory_transactions_silver"
   ]
  },
  {
   "cell_type": "markdown",
   "metadata": {
    "application/vnd.databricks.v1+cell": {
     "cellMetadata": {},
     "inputWidgets": {},
     "nuid": "71fe3da9-fe8e-45d1-8dfa-4876d0ac3328",
     "showTitle": false,
     "title": ""
    }
   },
   "source": [
    "Gold Aggregations"
   ]
  },
  {
   "cell_type": "code",
   "execution_count": 0,
   "metadata": {
    "application/vnd.databricks.v1+cell": {
     "cellMetadata": {},
     "inputWidgets": {},
     "nuid": "933c0f74-055d-4b7c-be6b-86d1405ccd84",
     "showTitle": false,
     "title": ""
    }
   },
   "outputs": [],
   "source": [
    "%sql\n",
    "-- Author a query that returns the Total Quantity grouped by the Quarter Created, Inventory Transaction Type, and Product\n",
    "-- Sort by the Total Quantity Descending\n",
    "CREATE OR REPLACE TABLE underwear_dlh.fact_inventory_transactions_gold AS (\n",
    "  SELECT created_quarter AS QuarterCreated\n",
    "    , InventoryTransactionId AS Transactions\n",
    "    , product_name AS Product\n",
    "    , SUM(quantity_ordered) AS TotalQuantityOrdered\n",
    "  FROM underwear_dlh.fact_inventory_transactions_silver\n",
    "  GROUP BY QuarterCreated, Transaction, Product\n",
    "  ORDER BY TotalQuantity DESC);\n",
    "\n",
    "SELECT * FROM underwear_dlh.fact_inventory_transactions_gold;"
   ]
  },
  {
   "cell_type": "markdown",
   "metadata": {
    "application/vnd.databricks.v1+cell": {
     "cellMetadata": {},
     "inputWidgets": {},
     "nuid": "f6e93a8d-72de-46fe-b2c1-f2f3a7ea010c",
     "showTitle": true,
     "title": ""
    }
   },
   "source": [
    "Make Bronze Table to create a Purchase Orders Fact Table"
   ]
  },
  {
   "cell_type": "code",
   "execution_count": 0,
   "metadata": {
    "application/vnd.databricks.v1+cell": {
     "cellMetadata": {},
     "inputWidgets": {},
     "nuid": "5ae39b63-6517-42a3-a7bb-fbf97d6863c7",
     "showTitle": false,
     "title": ""
    }
   },
   "outputs": [],
   "source": [
    "(spark.readStream\n",
    " .format(\"cloudFiles\")\n",
    " .option(\"cloudFiles.format\", \"json\")\n",
    " #.option(\"cloudFiles.schemaHints\", \"fact_order_key BIGINT\")\n",
    " #.option(\"cloudFiles.schemaHints\", \"PurchaseOrderId BIGINT\")\n",
    " #.option(\"cloudFiles.schemaHints\", \"SuppliedId BIGINT\")\n",
    " #.option(\"cloudFiles.schemaHints\", \"EmployeeId BIGINT\") \n",
    " #.option(\"cloudFiles.schemaHints\", \"ShippingMethodId BIGINT\")\n",
    " #.option(\"cloudFiles.schemaHints\", \"OrderDate DECIMAL\")\n",
    " .option(\"cloudFiles.schemaLocation\", purchase_orders_output_bronze)\n",
    " .option(\"cloudFiles.inferColumnTypes\", \"true\")\n",
    " .option(\"multiLine\", \"true\")\n",
    " .load(purchase_orders_stream_dir)\n",
    " .createOrReplaceTempView(\"purchase_orders_raw_tempview\"))"
   ]
  },
  {
   "cell_type": "code",
   "execution_count": 0,
   "metadata": {
    "application/vnd.databricks.v1+cell": {
     "cellMetadata": {},
     "inputWidgets": {},
     "nuid": "242952eb-2e2e-43b6-8624-ac465ce6a848",
     "showTitle": false,
     "title": ""
    }
   },
   "outputs": [],
   "source": [
    "%sql\n",
    "/* Add Metadata for Traceability */\n",
    "CREATE OR REPLACE TEMPORARY VIEW purchase_orders_bronze_tempview AS (\n",
    "  SELECT *, current_timestamp() receipt_time, input_file_name() source_file\n",
    "  FROM purchase_orders_raw_tempview\n",
    ")"
   ]
  },
  {
   "cell_type": "code",
   "execution_count": 0,
   "metadata": {
    "application/vnd.databricks.v1+cell": {
     "cellMetadata": {},
     "inputWidgets": {},
     "nuid": "04fe0b6b-083a-44ed-a453-1f18273e3438",
     "showTitle": false,
     "title": ""
    }
   },
   "outputs": [],
   "source": [
    "%sql\n",
    "SELECT * FROM purchase_orders_bronze_tempview"
   ]
  },
  {
   "cell_type": "code",
   "execution_count": 0,
   "metadata": {
    "application/vnd.databricks.v1+cell": {
     "cellMetadata": {},
     "inputWidgets": {},
     "nuid": "1f23cfb3-1615-48fd-91e5-65ea51b94d62",
     "showTitle": false,
     "title": ""
    }
   },
   "outputs": [],
   "source": [
    "(spark.table(\"purchase_orders_bronze_tempview\")\n",
    "      .writeStream\n",
    "      .format(\"delta\")\n",
    "      .option(\"checkpointLocation\", f\"{purchase_orders_output_bronze}/_checkpoint\")\n",
    "      .outputMode(\"append\")\n",
    "      .table(\"fact_purchase_orders_bronze\"))"
   ]
  },
  {
   "cell_type": "markdown",
   "metadata": {
    "application/vnd.databricks.v1+cell": {
     "cellMetadata": {},
     "inputWidgets": {},
     "nuid": "e460e7c2-2c5d-4295-9e9b-fd08a43d66f9",
     "showTitle": false,
     "title": ""
    }
   },
   "source": [
    "Create Silver Tables"
   ]
  },
  {
   "cell_type": "code",
   "execution_count": 0,
   "metadata": {
    "application/vnd.databricks.v1+cell": {
     "cellMetadata": {},
     "inputWidgets": {},
     "nuid": "40b339e1-e0b1-45f1-8301-13b95d313eb3",
     "showTitle": false,
     "title": ""
    }
   },
   "outputs": [],
   "source": [
    "(spark.readStream\n",
    "  .table(\"fact_purchase_orders_bronze\")\n",
    "  .createOrReplaceTempView(\"purchase_orders_silver_tempview\"))"
   ]
  },
  {
   "cell_type": "code",
   "execution_count": 0,
   "metadata": {
    "application/vnd.databricks.v1+cell": {
     "cellMetadata": {},
     "inputWidgets": {},
     "nuid": "592aa64d-ef15-4868-99b4-cf94a573db3b",
     "showTitle": false,
     "title": ""
    }
   },
   "outputs": [],
   "source": [
    "%sql\n",
    "SELECT * FROM purchase_orders_silver_tempview"
   ]
  },
  {
   "cell_type": "code",
   "execution_count": 0,
   "metadata": {
    "application/vnd.databricks.v1+cell": {
     "cellMetadata": {},
     "inputWidgets": {},
     "nuid": "512a0387-b243-4039-af1e-ea4de76132fd",
     "showTitle": false,
     "title": ""
    }
   },
   "outputs": [],
   "source": [
    "%sql\n",
    "DESCRIBE EXTENDED purchase_orders_silver_tempview"
   ]
  },
  {
   "cell_type": "code",
   "execution_count": 0,
   "metadata": {
    "application/vnd.databricks.v1+cell": {
     "cellMetadata": {},
     "inputWidgets": {},
     "nuid": "9f6c242f-476b-47ff-987a-c4f1fd375149",
     "showTitle": false,
     "title": ""
    }
   },
   "outputs": [],
   "source": [
    "%sql\n",
    "CREATE OR REPLACE TEMPORARY VIEW fact_orders_silver_tempview AS (\n",
    "  SELECT po.fact_order_key,\n",
    "      po.PurchaseOrderId,\n",
    "      po.SupplierId,\n",
    "      s.SupplierName AS supplier_name,\n",
    "      po.EmployeeId, \n",
    "      e.EmployeeName AS employee_name, \n",
    "      po.ShippingMethodId,\n",
    "      sm.ShippingMethod AS shipping_method, \n",
    "      po.OrderDate,\n",
    "      od.day_name_of_week AS creation_day_name_of_week, \n",
    "      od.day_of_month AS creation_day_of_month, \n",
    "      od.weekday_weekend AS creation_weekday_weekend, \n",
    "      od.month_name AS creation_month_name,\n",
    "      od.calendar_quarter AS creation_quarter, \n",
    "      od.calendar_year AS creation_year, \n",
    "  FROM purchase_orders_silver_tempview AS po\n",
    "  INNER JOIN northwind_dlh.dim_supplier AS s\n",
    "  ON s.SupplierId = po.SupplierId\n",
    "  INNER JOIN northwind_dlh.dim_employee AS e\n",
    "  ON p.EmployeeId = po.EmployeeId\n",
    "  INNER JOIN northwind_dlh.dim_shipping_method AS sm\n",
    "  ON ce.ShippingMethodId = po.ShippingMethodId\n",
    "  LEFT OUTER JOIN northwind_dlh.dim_date AS od\n",
    "  ON od.DateId = po.OrderDate\n",
    ")\n"
   ]
  },
  {
   "cell_type": "code",
   "execution_count": 0,
   "metadata": {
    "application/vnd.databricks.v1+cell": {
     "cellMetadata": {},
     "inputWidgets": {},
     "nuid": "f884612a-6a49-4e58-9865-3f2ee6883d0f",
     "showTitle": false,
     "title": ""
    }
   },
   "outputs": [],
   "source": [
    "(spark.table(\"fact_purchase_orders_silver_tempview\")\n",
    "      .writeStream\n",
    "      .format(\"delta\")\n",
    "      .option(\"checkpointLocation\", f\"{purchase_orders_output_silver}/_checkpoint\")\n",
    "      .outputMode(\"append\")\n",
    "      .table(\"fact_purchase_orders_silver\"))"
   ]
  },
  {
   "cell_type": "code",
   "execution_count": 0,
   "metadata": {
    "application/vnd.databricks.v1+cell": {
     "cellMetadata": {},
     "inputWidgets": {},
     "nuid": "48eb867c-0159-4177-99f5-05a4f77ad713",
     "showTitle": false,
     "title": ""
    }
   },
   "outputs": [],
   "source": [
    "%sql\n",
    "SELECT * FROM fact_purchase_orders_silver"
   ]
  },
  {
   "cell_type": "code",
   "execution_count": 0,
   "metadata": {
    "application/vnd.databricks.v1+cell": {
     "cellMetadata": {},
     "inputWidgets": {},
     "nuid": "201f284d-b1fe-4fdb-b8a7-0adcde5812e2",
     "showTitle": false,
     "title": ""
    }
   },
   "outputs": [],
   "source": [
    "%sql\n",
    "DESCRIBE EXTENDED fact_purchase_orders_silver"
   ]
  },
  {
   "cell_type": "markdown",
   "metadata": {
    "application/vnd.databricks.v1+cell": {
     "cellMetadata": {},
     "inputWidgets": {},
     "nuid": "e83d1287-ec0f-4622-8c8d-f267decdd3a1",
     "showTitle": false,
     "title": ""
    }
   },
   "source": [
    "Gold Tables - Aggregations"
   ]
  },
  {
   "cell_type": "code",
   "execution_count": 0,
   "metadata": {
    "application/vnd.databricks.v1+cell": {
     "cellMetadata": {},
     "inputWidgets": {},
     "nuid": "53b69e6d-f819-4b0c-ba42-c553a0d8b117",
     "showTitle": false,
     "title": ""
    }
   },
   "outputs": [],
   "source": [
    "%sql\n",
    "-- Author a query that returns the Total List Price grouped by Supplier and Product and sorted by Total List Price descending.\n",
    "CREATE OR REPLACE TABLE underwear_dlh.fact_order_purchase_orders_by_shipping_method_gold AS (\n",
    "  SELECT supplier_name AS Supplier\n",
    "    , product_name AS Product\n",
    "    , SUM(shipping_method) AS ShippingMethod\n",
    "  FROM underwear_dlh.fact_orders_silver\n",
    "  GROUP BY Supplier, Product\n",
    "  ORDER BY ShippingMethod DESC);\n",
    "\n",
    "SELECT * FROM underwear_dlh.fact_order_purchase_orders_by_shipping_method_gold;"
   ]
  },
  {
   "cell_type": "markdown",
   "metadata": {
    "application/vnd.databricks.v1+cell": {
     "cellMetadata": {},
     "inputWidgets": {},
     "nuid": "7a921d68-d7cb-4b30-9f16-4fc637f05202",
     "showTitle": false,
     "title": ""
    }
   },
   "source": [
    "Clean Up the File System"
   ]
  },
  {
   "cell_type": "code",
   "execution_count": 0,
   "metadata": {
    "application/vnd.databricks.v1+cell": {
     "cellMetadata": {},
     "inputWidgets": {},
     "nuid": "41edf6df-7001-45f5-8fe7-74ccad305de6",
     "showTitle": false,
     "title": ""
    }
   },
   "outputs": [],
   "source": [
    "%fs rm -r /FileStore/lab_data/"
   ]
  }
 ],
 "metadata": {
  "application/vnd.databricks.v1+notebook": {
   "dashboards": [],
   "language": "python",
   "notebookMetadata": {
    "pythonIndentUnit": 4
   },
   "notebookName": "DS 2002 - Final Project (FINAL)",
   "widgets": {}
  }
 },
 "nbformat": 4,
 "nbformat_minor": 0
}
